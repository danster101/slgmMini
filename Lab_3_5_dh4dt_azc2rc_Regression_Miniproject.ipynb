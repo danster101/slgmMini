{
 "cells": [
  {
   "cell_type": "markdown",
   "metadata": {
    "colab_type": "text",
    "id": "60ZZFgCe5BIQ"
   },
   "source": [
    "## Regression Miniproject"
   ]
  },
  {
   "cell_type": "markdown",
   "metadata": {
    "colab_type": "text",
    "id": "k8CtGe-85BIX"
   },
   "source": [
    "This miniproject is for groups of size 2.\n",
    "\n",
    "Find a dataset appropriate for regression analysis and, well, analyze it using regression:\n",
    "- Identify the input variables and the output variable. For simplicity, ignore categorical variables in your data. Also if one of the variables that you care about has invalid values in a row (e.g., '?' or nan), discard that row. Your dataset should be such that after this step you have at least 4 input variables.\n",
    "- Find the (distribution of the) coefficients $\\theta$, assuming the sum of squares of errors as your cost function.\n",
    "- Identify which 2 input variables give the smallest error.\n",
    "- Explore the effect of regularization, Bayesian priors, and/or find other ways to explore the various aspects of your analysis.\n",
    "- Is there anything that your analysis tells you that you did not know before?\n",
    "\n",
    "Some possible sources for data:\n",
    "- [UCI Machine Learning Repository](http://archive.ics.uci.edu/ml/datasets.html?task=reg)\n",
    "- [Scraping the web with beautifulsoup](https://www.crummy.com/software/BeautifulSoup/)\n",
    "- [Kaggle](https://www.kaggle.com/datasets)\n",
    "\n",
    "**Your team must submit the following:**\n",
    "- Submit any code you write, either in this notebook or as a seprate file.\n",
    "- Summarize your work in 1-3 slides in this [Google Presenation](https://docs.google.com/presentation/d/1ex42K00I8ryQr5ed8ZrXNZKUr8wd3I4vaFSfv0VKrRo/edit?usp=sharing). All groups will add their work to the same presenation and so everyone can see work done by others. You should be able to present your slides in 2 minutes.\n",
    "\n",
    "- You can see the work from the previous class [here](https://docs.google.com/presentation/d/1iu0U8tsVq0maIAscd_tzvWxB2avyG0sBLMkydALegxo/edit?usp=sharing). But please not that this year we covered regression in more depth and this should be reflected in your submissions.\n",
    "\n",
    "\n",
    "**Grading:**\n",
    "- This miniproject has weight equal to a regular lab.\n",
    "- 75% of the grade will be based on my evaluation of your work.\n",
    "- 25% of the grade will be based on peer evaluation (more instructions will be provided later)."
   ]
  },
  {
   "cell_type": "code",
   "execution_count": 1,
   "metadata": {
    "colab": {
     "base_uri": "https://localhost:8080/",
     "height": 34
    },
    "colab_type": "code",
    "id": "UDDR4GUy5BIb",
    "outputId": "b71b48d3-cde8-4685-ce57-32897870ff82"
   },
   "outputs": [
    {
     "name": "stdout",
     "output_type": "stream",
     "text": [
      "Modules Imported!\n"
     ]
    }
   ],
   "source": [
    "%matplotlib inline\n",
    "import matplotlib.pyplot as plt\n",
    "import numpy as np\n",
    "import scipy as sp\n",
    "import scipy.stats as st\n",
    "import scipy.linalg as la\n",
    "from math import sqrt\n",
    "import pandas as pd\n",
    "from pandas import DataFrame\n",
    "import re\n",
    "print(\"Modules Imported!\")"
   ]
  },
  {
   "cell_type": "code",
   "execution_count": 2,
   "metadata": {
    "colab": {},
    "colab_type": "code",
    "id": "Mhv-HJqeqs0J"
   },
   "outputs": [],
   "source": [
    "# http://archive.ics.uci.edu/ml/datasets/Real+estate+valuation+data+set\n",
    "df = pd.read_excel('Real estate valuation data set.xlsx')"
   ]
  },
  {
   "cell_type": "code",
   "execution_count": 3,
   "metadata": {
    "colab": {
     "base_uri": "https://localhost:8080/",
     "height": 229
    },
    "colab_type": "code",
    "id": "oq6U2bIUruQn",
    "outputId": "3635394b-01fa-4e5f-c1ed-7cd9c58d84cc"
   },
   "outputs": [
    {
     "data": {
      "text/html": [
       "<div>\n",
       "<style scoped>\n",
       "    .dataframe tbody tr th:only-of-type {\n",
       "        vertical-align: middle;\n",
       "    }\n",
       "\n",
       "    .dataframe tbody tr th {\n",
       "        vertical-align: top;\n",
       "    }\n",
       "\n",
       "    .dataframe thead th {\n",
       "        text-align: right;\n",
       "    }\n",
       "</style>\n",
       "<table border=\"1\" class=\"dataframe\">\n",
       "  <thead>\n",
       "    <tr style=\"text-align: right;\">\n",
       "      <th></th>\n",
       "      <th>No</th>\n",
       "      <th>X1 transaction date</th>\n",
       "      <th>X2 house age</th>\n",
       "      <th>X3 distance to the nearest MRT station</th>\n",
       "      <th>X4 number of convenience stores</th>\n",
       "      <th>X5 latitude</th>\n",
       "      <th>X6 longitude</th>\n",
       "      <th>Y house price of unit area</th>\n",
       "    </tr>\n",
       "  </thead>\n",
       "  <tbody>\n",
       "    <tr>\n",
       "      <th>0</th>\n",
       "      <td>1</td>\n",
       "      <td>2012.916667</td>\n",
       "      <td>32.0</td>\n",
       "      <td>84.87882</td>\n",
       "      <td>10</td>\n",
       "      <td>24.98298</td>\n",
       "      <td>121.54024</td>\n",
       "      <td>37.9</td>\n",
       "    </tr>\n",
       "    <tr>\n",
       "      <th>1</th>\n",
       "      <td>2</td>\n",
       "      <td>2012.916667</td>\n",
       "      <td>19.5</td>\n",
       "      <td>306.59470</td>\n",
       "      <td>9</td>\n",
       "      <td>24.98034</td>\n",
       "      <td>121.53951</td>\n",
       "      <td>42.2</td>\n",
       "    </tr>\n",
       "    <tr>\n",
       "      <th>2</th>\n",
       "      <td>3</td>\n",
       "      <td>2013.583333</td>\n",
       "      <td>13.3</td>\n",
       "      <td>561.98450</td>\n",
       "      <td>5</td>\n",
       "      <td>24.98746</td>\n",
       "      <td>121.54391</td>\n",
       "      <td>47.3</td>\n",
       "    </tr>\n",
       "    <tr>\n",
       "      <th>3</th>\n",
       "      <td>4</td>\n",
       "      <td>2013.500000</td>\n",
       "      <td>13.3</td>\n",
       "      <td>561.98450</td>\n",
       "      <td>5</td>\n",
       "      <td>24.98746</td>\n",
       "      <td>121.54391</td>\n",
       "      <td>54.8</td>\n",
       "    </tr>\n",
       "    <tr>\n",
       "      <th>4</th>\n",
       "      <td>5</td>\n",
       "      <td>2012.833333</td>\n",
       "      <td>5.0</td>\n",
       "      <td>390.56840</td>\n",
       "      <td>5</td>\n",
       "      <td>24.97937</td>\n",
       "      <td>121.54245</td>\n",
       "      <td>43.1</td>\n",
       "    </tr>\n",
       "  </tbody>\n",
       "</table>\n",
       "</div>"
      ],
      "text/plain": [
       "   No  X1 transaction date  X2 house age  \\\n",
       "0   1          2012.916667          32.0   \n",
       "1   2          2012.916667          19.5   \n",
       "2   3          2013.583333          13.3   \n",
       "3   4          2013.500000          13.3   \n",
       "4   5          2012.833333           5.0   \n",
       "\n",
       "   X3 distance to the nearest MRT station  X4 number of convenience stores  \\\n",
       "0                                84.87882                               10   \n",
       "1                               306.59470                                9   \n",
       "2                               561.98450                                5   \n",
       "3                               561.98450                                5   \n",
       "4                               390.56840                                5   \n",
       "\n",
       "   X5 latitude  X6 longitude  Y house price of unit area  \n",
       "0     24.98298     121.54024                        37.9  \n",
       "1     24.98034     121.53951                        42.2  \n",
       "2     24.98746     121.54391                        47.3  \n",
       "3     24.98746     121.54391                        54.8  \n",
       "4     24.97937     121.54245                        43.1  "
      ]
     },
     "execution_count": 3,
     "metadata": {},
     "output_type": "execute_result"
    }
   ],
   "source": [
    "df.head()"
   ]
  },
  {
   "cell_type": "code",
   "execution_count": 4,
   "metadata": {
    "colab": {},
    "colab_type": "code",
    "id": "GGPN77hL4isi"
   },
   "outputs": [],
   "source": [
    "X = df.values[:, 1:7]\n",
    "Y = df.values[:, 7]"
   ]
  },
  {
   "cell_type": "code",
   "execution_count": 5,
   "metadata": {
    "colab": {},
    "colab_type": "code",
    "id": "HrqVK9fC42ej"
   },
   "outputs": [],
   "source": [
    "# normalize X and Y\n",
    "X_n = (X - X.mean(axis=0)) / X.std(axis=0)\n",
    "Y_n = (Y - Y.mean()) / Y.std()"
   ]
  },
  {
   "cell_type": "code",
   "execution_count": 6,
   "metadata": {
    "colab": {},
    "colab_type": "code",
    "id": "MP3RFPtC59M9"
   },
   "outputs": [],
   "source": [
    "# Bayesian regression estimate of θ\n",
    "K_b = la.inv(X_n.T @ X_n)\n",
    "θ_b = K_b @ X_n.T @ Y_n"
   ]
  },
  {
   "cell_type": "code",
   "execution_count": 7,
   "metadata": {
    "colab": {
     "base_uri": "https://localhost:8080/",
     "height": 87
    },
    "colab_type": "code",
    "id": "1immfs4C6ouN",
    "outputId": "0566d907-d7b3-48ca-8b72-9c6f12d0097e"
   },
   "outputs": [
    {
     "data": {
      "text/plain": [
       "(array([ 0.10671371, -0.22581256, -0.41625196,  0.24534464,  0.20564666,\n",
       "        -0.01401913]),\n",
       " array([0.00245086, 0.00244997, 0.01044199, 0.00390585, 0.00388943,\n",
       "        0.00706837]))"
      ]
     },
     "execution_count": 7,
     "metadata": {},
     "output_type": "execute_result"
    }
   ],
   "source": [
    "θ_b, K_b.diagonal()"
   ]
  },
  {
   "cell_type": "code",
   "execution_count": 8,
   "metadata": {
    "colab": {
     "base_uri": "https://localhost:8080/",
     "height": 52
    },
    "colab_type": "code",
    "id": "XFaYQo5AVy-w",
    "outputId": "c7a5515d-57b3-4a51-a15c-1050f9f64fb4"
   },
   "outputs": [
    {
     "data": {
      "text/plain": [
       "array([0.99634666, 0.97769829, 0.78261124, 0.88318062, 0.90421141,\n",
       "       1.00740686])"
      ]
     },
     "execution_count": 8,
     "metadata": {},
     "output_type": "execute_result"
    }
   ],
   "source": [
    "np.array([np.sqrt(np.mean(np.power(Y_n - X_n[:, i] * θ_b[i], 2))) for i in range(6)])"
   ]
  },
  {
   "cell_type": "code",
   "execution_count": 9,
   "metadata": {
    "colab": {
     "base_uri": "https://localhost:8080/",
     "height": 34
    },
    "colab_type": "code",
    "id": "vRL07dNyW16R",
    "outputId": "367ef996-d9ef-4592-c4be-a25b87c6614e"
   },
   "outputs": [
    {
     "data": {
      "text/plain": [
       "0.6462313480595928"
      ]
     },
     "execution_count": 9,
     "metadata": {},
     "output_type": "execute_result"
    }
   ],
   "source": [
    "def msre(θ):\n",
    "  return np.sqrt(np.mean(np.power(Y_n - X_n @ θ, 2)))\n",
    "msre(θ_b)"
   ]
  },
  {
   "cell_type": "code",
   "execution_count": 10,
   "metadata": {
    "colab": {
     "base_uri": "https://localhost:8080/",
     "height": 34
    },
    "colab_type": "code",
    "id": "vDft0gGHX8AU",
    "outputId": "d1c60d73-1ad2-4933-a44c-8dfdf7cb683e"
   },
   "outputs": [
    {
     "data": {
      "text/plain": [
       "0.6462313480595928"
      ]
     },
     "execution_count": 10,
     "metadata": {},
     "output_type": "execute_result"
    }
   ],
   "source": [
    "def regularized(λ=0.0):\n",
    "  return la.inv(X_n.T @ X_n + λ * np.eye(6)) @ X_n.T @ Y_n\n",
    "\n",
    "msre(regularized())"
   ]
  },
  {
   "cell_type": "code",
   "execution_count": 11,
   "metadata": {
    "colab": {
     "base_uri": "https://localhost:8080/",
     "height": 276
    },
    "colab_type": "code",
    "id": "HRrW4GrpbTwe",
    "outputId": "7e830d14-8134-4eb4-8e61-4ce34a3ee076"
   },
   "outputs": [
    {
     "data": {
      "image/png": "[encoded data removed]",
      "text/plain": [
       "<Figure size 432x288 with 1 Axes>"
      ]
     },
     "metadata": {
      "needs_background": "light"
     },
     "output_type": "display_data"
    }
   ],
   "source": [
    "λs = np.linspace(0, 0.1, 51)\n",
    "plt.plot(λs, np.array([msre(regularized(λ)) for λ in λs]) / msre(regularized(0)))\n",
    "plt.show()"
   ]
  },
  {
   "cell_type": "markdown",
   "metadata": {
    "colab_type": "text",
    "id": "Y92JHiZI42v7"
   },
   "source": [
    "## Old Single-Variable Code\n",
    "\n",
    "Probably not necessary: https://piazza.com/class/jqpvykt1gbq4gf?cid=47"
   ]
  },
  {
   "cell_type": "code",
   "execution_count": 14,
   "metadata": {
    "colab": {
     "base_uri": "https://localhost:8080/",
     "height": 34
    },
    "colab_type": "code",
    "id": "Wil7zYb6UNnt",
    "outputId": "47a16f41-b06f-4d7b-b0ec-be2e8c0b62f5"
   },
   "outputs": [
    {
     "data": {
      "text/plain": [
       "((414,), (414,))"
      ]
     },
     "execution_count": 14,
     "metadata": {},
     "output_type": "execute_result"
    }
   ],
   "source": [
    "X1, X2, X3, X4, X5, X6, Y = df.values[:, 1], df.values[:, 2], df.values[:, 3], df.values[:, 4], df.values[:, 5], df.values[:, 6], df.values[:, 7]\n",
    "X1.shape, Y.shape"
   ]
  },
  {
   "cell_type": "code",
   "execution_count": 15,
   "metadata": {
    "colab": {},
    "colab_type": "code",
    "id": "CQmpIwlnVU65"
   },
   "outputs": [],
   "source": [
    "K_b = 1 / (X1.T @ X1)\n",
    "theta_b = K_b * X1.T @ Y"
   ]
  },
  {
   "cell_type": "code",
   "execution_count": 16,
   "metadata": {
    "colab": {
     "base_uri": "https://localhost:8080/",
     "height": 34
    },
    "colab_type": "code",
    "id": "aOjtBgSNWX8z",
    "outputId": "8c2b5f13-847e-4a02-b58f-71a7d8c29492"
   },
   "outputs": [
    {
     "data": {
      "text/plain": [
       "0.018866144432396717"
      ]
     },
     "execution_count": 16,
     "metadata": {},
     "output_type": "execute_result"
    }
   ],
   "source": [
    "theta_b"
   ]
  },
  {
   "cell_type": "code",
   "execution_count": 17,
   "metadata": {
    "colab": {
     "base_uri": "https://localhost:8080/",
     "height": 34
    },
    "colab_type": "code",
    "id": "eFqIDLsNWmKD",
    "outputId": "c817612c-32c7-453b-9c5f-5925b20ef844"
   },
   "outputs": [
    {
     "data": {
      "text/plain": [
       "5.960021565108392e-10"
      ]
     },
     "execution_count": 17,
     "metadata": {},
     "output_type": "execute_result"
    }
   ],
   "source": [
    "K_b"
   ]
  },
  {
   "cell_type": "code",
   "execution_count": 18,
   "metadata": {
    "colab": {
     "base_uri": "https://localhost:8080/",
     "height": 282
    },
    "colab_type": "code",
    "id": "auuDEQZiaFhX",
    "outputId": "1bf442cc-d2e5-4581-df3c-f64a26be50d3"
   },
   "outputs": [
    {
     "data": {
      "text/plain": [
       "[]"
      ]
     },
     "execution_count": 18,
     "metadata": {},
     "output_type": "execute_result"
    },
    {
     "data": {
      "image/png": "[encoded data removed]",
      "text/plain": [
       "<Figure size 432x288 with 1 Axes>"
      ]
     },
     "metadata": {
      "needs_background": "light"
     },
     "output_type": "display_data"
    }
   ],
   "source": [
    "plt.scatter(X1, Y)\n",
    "plt.plot()"
   ]
  },
  {
   "cell_type": "code",
   "execution_count": 20,
   "metadata": {
    "colab": {},
    "colab_type": "code",
    "id": "VN_VQgW0VnKY"
   },
   "outputs": [
    {
     "name": "stdout",
     "output_type": "stream",
     "text": [
      "theta*= 0.018866144432396717\n",
      "RMSE = 13.589580730833474\n"
     ]
    }
   ],
   "source": [
    "rmse_x1 = np.sqrt(((X1 * theta_b - Y) ** 2).mean())\n",
    "\n",
    "print('theta*=', theta_b)\n",
    "print('RMSE =', rmse_x1)"
   ]
  },
  {
   "cell_type": "code",
   "execution_count": null,
   "metadata": {},
   "outputs": [],
   "source": []
  }
 ],
 "metadata": {
  "colab": {
   "collapsed_sections": [],
   "name": "Lab 3_5_azc2rc_Regression Miniproject.ipynb",
   "provenance": [],
   "toc_visible": true,
   "version": "0.3.2"
  },
  "kernelspec": {
   "display_name": "Python 3",
   "language": "python",
   "name": "python3"
  },
  "language_info": {
   "codemirror_mode": {
    "name": "ipython",
    "version": 3
   },
   "file_extension": ".py",
   "mimetype": "text/x-python",
   "name": "python",
   "nbconvert_exporter": "python",
   "pygments_lexer": "ipython3",
   "version": "3.7.1"
  }
 },
 "nbformat": 4,
 "nbformat_minor": 1
}
